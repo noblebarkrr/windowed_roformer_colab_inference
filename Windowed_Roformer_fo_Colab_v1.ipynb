{
  "nbformat": 4,
  "nbformat_minor": 0,
  "metadata": {
    "colab": {
      "provenance": [],
      "gpuType": "T4"
    },
    "kernelspec": {
      "name": "python3",
      "display_name": "Python 3"
    },
    "language_info": {
      "name": "python"
    },
    "accelerator": "GPU"
  },
  "cells": [
    {
      "cell_type": "code",
      "execution_count": null,
      "metadata": {
        "cellView": "form",
        "id": "3qPGIS9ofbXv"
      },
      "outputs": [],
      "source": [
        "#@title Установка\n",
        "!git clone https://github.com/smulelabs/windowed-roformer\n",
        "%cd /content/windowed-roformer\n",
        "!wget -O mbr-win10-sink8.ckpt https://huggingface.co/smulelabs/windowed-roformer/resolve/main/mbr-win10-sink8.ckpt?download=true\n",
        "!pip install -r requirements.txt"
      ]
    },
    {
      "cell_type": "code",
      "source": [
        "#@title Инференс (на выходе только вокал)\n",
        "%cd /content/windowed-roformer\n",
        "input_file = \"\" # @param {\"type\":\"string\",\"placeholder\":\"путь к входному файлу\"}\n",
        "output_file = \"\" # @param {\"type\":\"string\",\"placeholder\":\"путь к выходному файлу (формат вывода указывается в расширении файла)\"}\n",
        "cmd = [\"python\", \"main.py\" \"--input\", f\"\\\"{input_file}\\\"\", \"--checkpoint\", \"mbr-win10-sink8.ckpt\", \"--output\" f\"\\\"{output_file}\\\"\", \"--overlap\", \"2\", \"--batch_size\", \"1\"]\n",
        "cmd = ' '.join(cmd)\n",
        "!$cmd"
      ],
      "metadata": {
        "cellView": "form",
        "id": "M58MeJJKgZL8"
      },
      "execution_count": null,
      "outputs": []
    }
  ]
}